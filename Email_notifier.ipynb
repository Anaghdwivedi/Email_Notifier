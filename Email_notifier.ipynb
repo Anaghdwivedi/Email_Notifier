{
  "nbformat": 4,
  "nbformat_minor": 0,
  "metadata": {
    "colab": {
      "provenance": []
    },
    "kernelspec": {
      "name": "python3",
      "display_name": "Python 3"
    },
    "language_info": {
      "name": "python"
    }
  },
  "cells": [
    {
      "cell_type": "code",
      "source": [
        "import requests\n",
        "from bs4 import BeautifulSoup\n",
        "import smtplib\n",
        "import time\n",
        "\n",
        "# Using a While loop to make sure that Our code runs all the time (once a day)\n",
        "\n",
        "while True:\n",
        "    re = requests.get('http://books.toscrape.com/catalogue/sapiens-a-brief-history-of-humankind_996/index.html')\n",
        "    res = re.content\n",
        "\n",
        "    soup = BeautifulSoup(res, 'html.parser')"
      ],
      "metadata": {
        "id": "pD8nnih8S2cM"
      },
      "execution_count": null,
      "outputs": []
    },
    {
      "cell_type": "code",
      "source": [
        "price = float(soup.find('p', class_='price_color').text[1:])\n"
      ],
      "metadata": {
        "id": "nwpAFuKaTH_0"
      },
      "execution_count": null,
      "outputs": []
    },
    {
      "cell_type": "code",
      "source": [
        "# Checking if the price is less than 60\n",
        "# Use your email and the password (you can generate a password for the app from your Yahoo account)\n",
        "\n",
        "    if price < 60:\n",
        "        smt = smtplib.SMTP('smtp.gmail.com', 587)\n",
        "        smt.ehlo()\n",
        "        smt.starttls()\n",
        "        # Use your credentials\n",
        "        smt.login('sarthakdwivedi848@gmail.com.com', 'dxuwqrkentlhptuy')\n",
        "        # First email is the sender's email, the second is the receiver's email\n",
        "        smt.sendmail('sarthakdwivedi848@gmail.com.com',\n",
        "                     '2100520510012@ietlucknow.ac.in',\n",
        "                     f\"Subject: Book Price Notifier\\n\\nHi, price has dropped to {price}. Buy it!\")\n",
        "        smt.quit()\n",
        "    time.sleep(24*60*60)"
      ],
      "metadata": {
        "id": "_1_DqVf-ToK0"
      },
      "execution_count": null,
      "outputs": []
    }
  ]
}